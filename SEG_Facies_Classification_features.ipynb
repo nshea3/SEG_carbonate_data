{
  "nbformat": 4,
  "nbformat_minor": 0,
  "metadata": {
    "colab": {
      "name": "SEG_Facies_Classification_features.ipynb",
      "provenance": [],
      "collapsed_sections": [],
      "include_colab_link": true
    },
    "kernelspec": {
      "name": "python3",
      "display_name": "Python 3"
    }
  },
  "cells": [
    {
      "cell_type": "markdown",
      "metadata": {
        "id": "view-in-github",
        "colab_type": "text"
      },
      "source": [
        "<a href=\"https://colab.research.google.com/github/nshea3/SEG_carbonate_data/blob/master/SEG_Facies_Classification_features.ipynb\" target=\"_parent\"><img src=\"https://colab.research.google.com/assets/colab-badge.svg\" alt=\"Open In Colab\"/></a>"
      ]
    },
    {
      "cell_type": "code",
      "metadata": {
        "id": "yt0nhvHkGZql",
        "colab_type": "code",
        "colab": {}
      },
      "source": [
        "import pandas as pd\n",
        "import matplotlib.pyplot as plt\n",
        "import numpy as np\n",
        "\n",
        "%matplotlib inline\n",
        "\n",
        "data = pd.read_csv('https://raw.githubusercontent.com/seg/2016-ml-contest/master/training_data.csv')\n"
      ],
      "execution_count": 0,
      "outputs": []
    },
    {
      "cell_type": "code",
      "metadata": {
        "id": "CdHstkutGfby",
        "colab_type": "code",
        "colab": {}
      },
      "source": [
        "import numpy as np\n",
        "import pandas as pd\n",
        "import matplotlib.pyplot as plt\n",
        "\n",
        "from sklearn.model_selection import cross_val_score\n",
        "from sklearn.model_selection import KFold , StratifiedKFold\n",
        "from sklearn.metrics import confusion_matrix, f1_score\n",
        "from sklearn import preprocessing\n",
        "from sklearn.model_selection import LeavePGroupsOut\n",
        "from sklearn.multiclass import OneVsOneClassifier\n",
        "from sklearn.ensemble import RandomForestClassifier\n",
        "from scipy.signal import medfilt"
      ],
      "execution_count": 0,
      "outputs": []
    },
    {
      "cell_type": "code",
      "metadata": {
        "id": "Q_EmVXP1Ggin",
        "colab_type": "code",
        "colab": {}
      },
      "source": [
        "#Load Data\n",
        "data = pd.read_csv('https://raw.githubusercontent.com/seg/2016-ml-contest/master/facies_vectors.csv')\n",
        "\n",
        "# Parameters\n",
        "feature_names = ['GR', 'ILD_log10', 'DeltaPHI', 'PHIND', 'PE', 'NM_M', 'RELPOS']\n",
        "facies_names = ['SS', 'CSiS', 'FSiS', 'SiSh', 'MS', 'WS', 'D', 'PS', 'BS']\n",
        "facies_colors = ['#F4D03F', '#F5B041','#DC7633','#6E2C00', '#1B4F72','#2E86C1', '#AED6F1', '#A569BD', '#196F3D']\n",
        "\n",
        "# Store features and labels\n",
        "X = data[feature_names].values \n",
        "y = data['Facies'].values \n",
        "\n",
        "# Store well labels and depths\n",
        "well = data['Well Name'].values\n",
        "depth = data['Depth'].values\n",
        "\n",
        "# Fill 'PE' missing values with mean\n",
        "\n",
        "#**************Is this valid? \n",
        "\n",
        "\n",
        "def preprocess(df, features, targets):\n",
        "  X = data[feature_names]\n",
        "  y = data[targets]\n",
        "  imp = preprocessing.Imputer(missing_values='NaN', strategy='mean', axis=0)\n",
        "  imp.fit(X)\n",
        "  X = imp.transform(X)\n",
        "  return X, y\n",
        "\n"
      ],
      "execution_count": 0,
      "outputs": []
    },
    {
      "cell_type": "code",
      "metadata": {
        "id": "_FcaRqdpGzJJ",
        "colab_type": "code",
        "colab": {}
      },
      "source": [
        "data_by_well = {well:data[data['Well Name'] == well] for well in data['Well Name'].unique()}"
      ],
      "execution_count": 0,
      "outputs": []
    },
    {
      "cell_type": "code",
      "metadata": {
        "id": "lcpnI0lcHs0a",
        "colab_type": "code",
        "outputId": "6fe0485c-ccac-44ff-8b4e-82eab8b9e8f9",
        "colab": {
          "base_uri": "https://localhost:8080/",
          "height": 282
        }
      },
      "source": [
        "data_by_well['ALEXANDER D']['Facies'].diff().hist()"
      ],
      "execution_count": 0,
      "outputs": [
        {
          "output_type": "execute_result",
          "data": {
            "text/plain": [
              "<matplotlib.axes._subplots.AxesSubplot at 0x7f0ec25e07f0>"
            ]
          },
          "metadata": {
            "tags": []
          },
          "execution_count": 10
        },
        {
          "output_type": "display_data",
          "data": {
            "image/png": "[encoded data removed]",
            "text/plain": [
              "<Figure size 432x288 with 1 Axes>"
            ]
          },
          "metadata": {
            "tags": []
          }
        }
      ]
    },
    {
      "cell_type": "code",
      "metadata": {
        "id": "H9qFeh3OTXmB",
        "colab_type": "code",
        "colab": {}
      },
      "source": [
        "from itertools import groupby\n",
        "\n",
        "def rl_encode(ser):\n",
        "  return [sum(g) / b for b, g in groupby(ser) if b]"
      ],
      "execution_count": 0,
      "outputs": []
    },
    {
      "cell_type": "code",
      "metadata": {
        "id": "rK5t89oqXDl7",
        "colab_type": "code",
        "outputId": "fa106735-f3d4-467e-fed4-c5981a6c0fcb",
        "colab": {
          "base_uri": "https://localhost:8080/",
          "height": 403
        }
      },
      "source": [
        "data_by_well['ALEXANDER D']['Facies'].values"
      ],
      "execution_count": 0,
      "outputs": [
        {
          "output_type": "execute_result",
          "data": {
            "text/plain": [
              "array([3, 3, 3, 3, 3, 3, 3, 2, 2, 3, 3, 3, 2, 2, 2, 2, 2, 2, 2, 2, 2, 2,\n",
              "       2, 2, 2, 3, 3, 2, 3, 9, 9, 9, 3, 3, 2, 2, 3, 3, 9, 9, 7, 7, 6, 6,\n",
              "       6, 7, 7, 7, 7, 4, 4, 4, 4, 4, 4, 8, 6, 6, 5, 5, 6, 6, 6, 8, 8, 8,\n",
              "       8, 8, 8, 6, 6, 5, 5, 6, 6, 5, 6, 6, 6, 6, 6, 6, 6, 6, 8, 6, 6, 5,\n",
              "       6, 6, 6, 4, 4, 4, 4, 4, 4, 6, 6, 6, 8, 8, 3, 3, 3, 2, 2, 2, 2, 2,\n",
              "       3, 3, 3, 3, 3, 3, 2, 2, 2, 2, 2, 2, 2, 2, 2, 2, 2, 2, 2, 2, 2, 3,\n",
              "       3, 3, 2, 8, 8, 8, 8, 8, 8, 8, 8, 8, 8, 6, 5, 5, 5, 6, 6, 8, 8, 8,\n",
              "       8, 4, 3, 3, 3, 3, 3, 3, 3, 3, 3, 3, 3, 3, 3, 3, 3, 3, 3, 2, 2, 2,\n",
              "       2, 3, 3, 5, 5, 8, 8, 8, 8, 8, 8, 8, 8, 8, 8, 8, 8, 8, 8, 8, 6, 6,\n",
              "       8, 3, 3, 3, 3, 3, 3, 3, 3, 2, 2, 2, 2, 2, 2, 2, 2, 2, 2, 2, 2, 2,\n",
              "       2, 2, 2, 3, 3, 3, 3, 8, 8, 8, 2, 2, 2, 2, 2, 2, 2, 2, 2, 2, 2, 2,\n",
              "       2, 2, 2, 2, 2, 2, 2, 2, 2, 2, 2, 2, 8, 8, 8, 8, 8, 8, 3, 3, 3, 3,\n",
              "       3, 3, 3, 3, 8, 8, 8, 8, 8, 8, 8, 8, 8, 8, 8, 8, 8, 8, 8, 6, 6, 6,\n",
              "       6, 7, 7, 8, 8, 8, 8, 6, 5, 6, 8, 8, 3, 3, 3, 3, 3, 3, 3, 3, 3, 3,\n",
              "       3, 3, 3, 3, 3, 2, 2, 2, 2, 2, 2, 2, 2, 2, 2, 2, 2, 2, 2, 2, 2, 2,\n",
              "       2, 2, 2, 2, 2, 2, 2, 2, 2, 2, 2, 2, 3, 3, 3, 3, 3, 3, 3, 3, 5, 8,\n",
              "       8, 8, 8, 8, 8, 6, 6, 6, 6, 5, 8, 8, 8, 6, 6, 7, 7, 7, 7, 7, 7, 7,\n",
              "       7, 6, 6, 6, 6, 6, 6, 6, 6, 5, 5, 5, 5, 5, 5, 5, 5, 5, 5, 6, 6, 6,\n",
              "       6, 6, 6, 6, 6, 6, 6, 6, 6, 5, 5, 4, 4, 4, 4, 4, 4, 4, 4, 4, 4, 4,\n",
              "       4, 4, 4, 4, 4, 4, 4, 4, 4, 4, 4, 4, 4, 4, 4, 4, 4, 4, 4, 6, 6, 6,\n",
              "       6, 4, 2, 2, 2, 2, 2, 8, 8, 8, 8, 8, 8, 8, 8, 8, 8, 8, 8, 8, 8, 8,\n",
              "       8, 8, 8, 8])"
            ]
          },
          "metadata": {
            "tags": []
          },
          "execution_count": 12
        }
      ]
    },
    {
      "cell_type": "code",
      "metadata": {
        "id": "WqMbUcfwZuwV",
        "colab_type": "code",
        "colab": {}
      },
      "source": [
        "rl_codes = []\n",
        "\n",
        "for well_df in data_by_well.items():\n",
        "  rl_codes.extend([(b, sum(1 for x in g)) for b, g in groupby(well_df[1].Facies.values)])"
      ],
      "execution_count": 0,
      "outputs": []
    },
    {
      "cell_type": "code",
      "metadata": {
        "id": "6R9IgjhGh2KQ",
        "colab_type": "code",
        "outputId": "72d7507a-99b8-4789-cf67-0cee9bdee5a0",
        "colab": {
          "base_uri": "https://localhost:8080/",
          "height": 282
        }
      },
      "source": [
        "#import seaborn as sns\n",
        "\n",
        "rl_codes_df = pd.DataFrame(rl_codes)\n",
        "rl_codes_df.columns = [\"facies_code\", \"length\"]\n",
        "\n",
        "rl_codes_df[\"length\"].hist()"
      ],
      "execution_count": 0,
      "outputs": [
        {
          "output_type": "execute_result",
          "data": {
            "text/plain": [
              "<matplotlib.axes._subplots.AxesSubplot at 0x7f0ec20f8780>"
            ]
          },
          "metadata": {
            "tags": []
          },
          "execution_count": 14
        },
        {
          "output_type": "display_data",
          "data": {
            "image/png": "[encoded data removed]",
            "text/plain": [
              "<Figure size 432x288 with 1 Axes>"
            ]
          },
          "metadata": {
            "tags": []
          }
        }
      ]
    },
    {
      "cell_type": "code",
      "metadata": {
        "id": "TgZzOfvknKFV",
        "colab_type": "code",
        "outputId": "eff2dbf5-386a-40d5-88da-5077b9e7c0ca",
        "colab": {
          "base_uri": "https://localhost:8080/",
          "height": 34
        }
      },
      "source": [
        "rl_codes_df.facies_code.unique()"
      ],
      "execution_count": 0,
      "outputs": [
        {
          "output_type": "execute_result",
          "data": {
            "text/plain": [
              "array([3, 2, 8, 6, 7, 4, 5, 9, 1])"
            ]
          },
          "metadata": {
            "tags": []
          },
          "execution_count": 15
        }
      ]
    },
    {
      "cell_type": "code",
      "metadata": {
        "id": "lP_IUQ31m5to",
        "colab_type": "code",
        "outputId": "3f7cc62b-3773-41f9-df7f-a1675e4f8b6f",
        "colab": {
          "base_uri": "https://localhost:8080/",
          "height": 220
        }
      },
      "source": [
        "fig, axes = plt.subplots(1, 9, figsize=(20,2.5))\n",
        "\n",
        "for idx, fac in enumerate(rl_codes_df.facies_code.unique()):\n",
        "  rl_codes_df[rl_codes_df['facies_code'] == fac].hist('length', bins=range(0,30), ax=axes[idx])\n",
        "\n",
        "#dflux.hist('rate', ax=axes[0])\n",
        "#dflux2.hist('rate', ax=axes[1])\n",
        "#dflux.hist('rate', ax=axes[2])"
      ],
      "execution_count": 0,
      "outputs": [
        {
          "output_type": "display_data",
          "data": {
            "image/png": "[encoded data removed]",
            "text/plain": [
              "<Figure size 1440x180 with 9 Axes>"
            ]
          },
          "metadata": {
            "tags": []
          }
        }
      ]
    },
    {
      "cell_type": "code",
      "metadata": {
        "id": "yjLLuUjgXES8",
        "colab_type": "code",
        "outputId": "e0d15a09-7a97-4d44-febf-69ee53d30d06",
        "colab": {
          "base_uri": "https://localhost:8080/",
          "height": 265
        }
      },
      "source": [
        "rl_codes = []\n",
        "for well_df in data_by_well.items():\n",
        "  rl_codes.extend(rl_encode(data_by_well['ALEXANDER D']['Facies'].values))\n",
        "\n",
        "\n",
        "plt.hist(rl_codes)\n",
        "plt.show()"
      ],
      "execution_count": 0,
      "outputs": [
        {
          "output_type": "display_data",
          "data": {
            "image/png": "[encoded data removed]",
            "text/plain": [
              "<Figure size 432x288 with 1 Axes>"
            ]
          },
          "metadata": {
            "tags": []
          }
        }
      ]
    },
    {
      "cell_type": "code",
      "metadata": {
        "id": "R31oCbf8PFhR",
        "colab_type": "code",
        "outputId": "290bb19b-ee1f-42fd-f238-24e98462a1e0",
        "colab": {
          "base_uri": "https://localhost:8080/",
          "height": 265
        }
      },
      "source": [
        "plt.hist(rl_encode(data_by_well['ALEXANDER D']['Facies'].values))\n",
        "plt.show()"
      ],
      "execution_count": 0,
      "outputs": [
        {
          "output_type": "display_data",
          "data": {
            "image/png": "[encoded data removed]",
            "text/plain": [
              "<Figure size 432x288 with 1 Axes>"
            ]
          },
          "metadata": {
            "tags": []
          }
        }
      ]
    },
    {
      "cell_type": "code",
      "metadata": {
        "id": "1-7aDJ2ENVjm",
        "colab_type": "code",
        "colab": {}
      },
      "source": [
        "def augment_unit_width(well_dframe):\n",
        "  data_by_well = {well:data[data['Well Name'] == well].sort_values('Depth') for well in well_dframe['Well Name'].unique()}\n",
        "  for well_df in data_by_well.items():\n",
        "    well_streak = [sum(1 for x in g) for b, g in groupby(well_df[1].Facies.values)]\n",
        "    well_df[1]['unitwidth'] = np.array([b for b in well_streak for _ in range(b)])\n",
        "  augment_dfbywell = pd.concat(data_by_well).reset_index().sample(frac=1)\n",
        "  return augment_dfbywell\n",
        "\n"
      ],
      "execution_count": 0,
      "outputs": []
    },
    {
      "cell_type": "code",
      "metadata": {
        "id": "7peNn442dKps",
        "colab_type": "code",
        "outputId": "655d8ecf-2811-4e46-d6c2-78ab15c2f17a",
        "colab": {
          "base_uri": "https://localhost:8080/",
          "height": 318
        }
      },
      "source": [
        "for well_df in data_by_well.items():\n",
        " well_streak = [sum(1 for x in g) for b, g in groupby(well_df[1].Facies.values)]\n",
        " well_df[1]['unitwidth'] = np.array([b for b in well_streak for _ in range(b)])\n",
        " print([b for b in well_streak for _ in range(b)])"
      ],
      "execution_count": 0,
      "outputs": [
        {
          "output_type": "stream",
          "text": [
            "[14, 14, 14, 14, 14, 14, 14, 14, 14, 14, 14, 14, 14, 14, 11, 11, 11, 11, 11, 11, 11, 11, 11, 11, 11, 2, 2, 6, 6, 6, 6, 6, 6, 8, 8, 8, 8, 8, 8, 8, 8, 2, 2, 4, 4, 4, 4, 13, 13, 13, 13, 13, 13, 13, 13, 13, 13, 13, 13, 13, 2, 2, 5, 5, 5, 5, 5, 27, 27, 27, 27, 27, 27, 27, 27, 27, 27, 27, 27, 27, 27, 27, 27, 27, 27, 27, 27, 27, 27, 27, 27, 27, 27, 27, 5, 5, 5, 5, 5, 9, 9, 9, 9, 9, 9, 9, 9, 9, 6, 6, 6, 6, 6, 6, 11, 11, 11, 11, 11, 11, 11, 11, 11, 11, 11, 7, 7, 7, 7, 7, 7, 7, 4, 4, 4, 4, 7, 7, 7, 7, 7, 7, 7, 7, 7, 7, 7, 7, 7, 7, 4, 4, 4, 4, 5, 5, 5, 5, 5, 6, 6, 6, 6, 6, 6, 9, 9, 9, 9, 9, 9, 9, 9, 9, 4, 4, 4, 4, 3, 3, 3, 10, 10, 10, 10, 10, 10, 10, 10, 10, 10, 3, 3, 3, 26, 26, 26, 26, 26, 26, 26, 26, 26, 26, 26, 26, 26, 26, 26, 26, 26, 26, 26, 26, 26, 26, 26, 26, 26, 26, 4, 4, 4, 4, 12, 12, 12, 12, 12, 12, 12, 12, 12, 12, 12, 12, 29, 29, 29, 29, 29, 29, 29, 29, 29, 29, 29, 29, 29, 29, 29, 29, 29, 29, 29, 29, 29, 29, 29, 29, 29, 29, 29, 29, 29, 7, 7, 7, 7, 7, 7, 7, 2, 2, 2, 2, 2, 2, 12, 12, 12, 12, 12, 12, 12, 12, 12, 12, 12, 12, 5, 5, 5, 5, 5, 11, 11, 11, 11, 11, 11, 11, 11, 11, 11, 11, 2, 2, 1, 2, 2, 37, 37, 37, 37, 37, 37, 37, 37, 37, 37, 37, 37, 37, 37, 37, 37, 37, 37, 37, 37, 37, 37, 37, 37, 37, 37, 37, 37, 37, 37, 37, 37, 37, 37, 37, 37, 37, 8, 8, 8, 8, 8, 8, 8, 8, 12, 12, 12, 12, 12, 12, 12, 12, 12, 12, 12, 12, 6, 6, 6, 6, 6, 6, 4, 4, 4, 4, 4, 4, 4, 4, 4, 4, 4, 4, 28, 28, 28, 28, 28, 28, 28, 28, 28, 28, 28, 28, 28, 28, 28, 28, 28, 28, 28, 28, 28, 28, 28, 28, 28, 28, 28, 28, 5, 5, 5, 5, 5, 21, 21, 21, 21, 21, 21, 21, 21, 21, 21, 21, 21, 21, 21, 21, 21, 21, 21, 21, 21, 21, 6, 6, 6, 6, 6, 6, 4, 4, 4, 4, 12, 12, 12, 12, 12, 12, 12, 12, 12, 12, 12, 12, 9, 9, 9, 9, 9, 9, 9, 9, 9]\n",
            "[7, 7, 7, 7, 7, 7, 7, 2, 2, 3, 3, 3, 13, 13, 13, 13, 13, 13, 13, 13, 13, 13, 13, 13, 13, 2, 2, 1, 1, 3, 3, 3, 2, 2, 2, 2, 2, 2, 2, 2, 2, 2, 3, 3, 3, 4, 4, 4, 4, 6, 6, 6, 6, 6, 6, 1, 2, 2, 2, 2, 3, 3, 3, 6, 6, 6, 6, 6, 6, 2, 2, 2, 2, 2, 2, 1, 8, 8, 8, 8, 8, 8, 8, 8, 1, 2, 2, 1, 3, 3, 3, 6, 6, 6, 6, 6, 6, 3, 3, 3, 2, 2, 3, 3, 3, 5, 5, 5, 5, 5, 6, 6, 6, 6, 6, 6, 15, 15, 15, 15, 15, 15, 15, 15, 15, 15, 15, 15, 15, 15, 15, 3, 3, 3, 1, 10, 10, 10, 10, 10, 10, 10, 10, 10, 10, 1, 3, 3, 3, 2, 2, 4, 4, 4, 4, 1, 17, 17, 17, 17, 17, 17, 17, 17, 17, 17, 17, 17, 17, 17, 17, 17, 17, 4, 4, 4, 4, 2, 2, 2, 2, 15, 15, 15, 15, 15, 15, 15, 15, 15, 15, 15, 15, 15, 15, 15, 2, 2, 1, 8, 8, 8, 8, 8, 8, 8, 8, 16, 16, 16, 16, 16, 16, 16, 16, 16, 16, 16, 16, 16, 16, 16, 16, 4, 4, 4, 4, 3, 3, 3, 24, 24, 24, 24, 24, 24, 24, 24, 24, 24, 24, 24, 24, 24, 24, 24, 24, 24, 24, 24, 24, 24, 24, 24, 6, 6, 6, 6, 6, 6, 8, 8, 8, 8, 8, 8, 8, 8, 15, 15, 15, 15, 15, 15, 15, 15, 15, 15, 15, 15, 15, 15, 15, 4, 4, 4, 4, 2, 2, 4, 4, 4, 4, 1, 1, 1, 2, 2, 15, 15, 15, 15, 15, 15, 15, 15, 15, 15, 15, 15, 15, 15, 15, 29, 29, 29, 29, 29, 29, 29, 29, 29, 29, 29, 29, 29, 29, 29, 29, 29, 29, 29, 29, 29, 29, 29, 29, 29, 29, 29, 29, 29, 8, 8, 8, 8, 8, 8, 8, 8, 1, 6, 6, 6, 6, 6, 6, 4, 4, 4, 4, 1, 3, 3, 3, 2, 2, 8, 8, 8, 8, 8, 8, 8, 8, 8, 8, 8, 8, 8, 8, 8, 8, 10, 10, 10, 10, 10, 10, 10, 10, 10, 10, 12, 12, 12, 12, 12, 12, 12, 12, 12, 12, 12, 12, 2, 2, 30, 30, 30, 30, 30, 30, 30, 30, 30, 30, 30, 30, 30, 30, 30, 30, 30, 30, 30, 30, 30, 30, 30, 30, 30, 30, 30, 30, 30, 30, 4, 4, 4, 4, 1, 5, 5, 5, 5, 5, 19, 19, 19, 19, 19, 19, 19, 19, 19, 19, 19, 19, 19, 19, 19, 19, 19, 19, 19]\n",
            "[21, 21, 21, 21, 21, 21, 21, 21, 21, 21, 21, 21, 21, 21, 21, 21, 21, 21, 21, 21, 21, 26, 26, 26, 26, 26, 26, 26, 26, 26, 26, 26, 26, 26, 26, 26, 26, 26, 26, 26, 26, 26, 26, 26, 26, 26, 26, 2, 2, 6, 6, 6, 6, 6, 6, 6, 6, 6, 6, 6, 6, 2, 2, 4, 4, 4, 4, 10, 10, 10, 10, 10, 10, 10, 10, 10, 10, 7, 7, 7, 7, 7, 7, 7, 18, 18, 18, 18, 18, 18, 18, 18, 18, 18, 18, 18, 18, 18, 18, 18, 18, 18, 1, 21, 21, 21, 21, 21, 21, 21, 21, 21, 21, 21, 21, 21, 21, 21, 21, 21, 21, 21, 21, 21, 2, 2, 20, 20, 20, 20, 20, 20, 20, 20, 20, 20, 20, 20, 20, 20, 20, 20, 20, 20, 20, 20, 6, 6, 6, 6, 6, 6, 5, 5, 5, 5, 5, 5, 5, 5, 5, 5, 2, 2, 17, 17, 17, 17, 17, 17, 17, 17, 17, 17, 17, 17, 17, 17, 17, 17, 17, 3, 3, 3, 5, 5, 5, 5, 5, 3, 3, 3, 7, 7, 7, 7, 7, 7, 7, 6, 6, 6, 6, 6, 6, 6, 6, 6, 6, 6, 6, 3, 3, 3, 18, 18, 18, 18, 18, 18, 18, 18, 18, 18, 18, 18, 18, 18, 18, 18, 18, 18, 5, 5, 5, 5, 5, 1, 4, 4, 4, 4, 3, 3, 3, 32, 32, 32, 32, 32, 32, 32, 32, 32, 32, 32, 32, 32, 32, 32, 32, 32, 32, 32, 32, 32, 32, 32, 32, 32, 32, 32, 32, 32, 32, 32, 32, 8, 8, 8, 8, 8, 8, 8, 8, 5, 5, 5, 5, 5, 6, 6, 6, 6, 6, 6, 10, 10, 10, 10, 10, 10, 10, 10, 10, 10, 9, 9, 9, 9, 9, 9, 9, 9, 9, 14, 14, 14, 14, 14, 14, 14, 14, 14, 14, 14, 14, 14, 14, 52, 52, 52, 52, 52, 52, 52, 52, 52, 52, 52, 52, 52, 52, 52, 52, 52, 52, 52, 52, 52, 52, 52, 52, 52, 52, 52, 52, 52, 52, 52, 52, 52, 52, 52, 52, 52, 52, 52, 52, 52, 52, 52, 52, 52, 52, 52, 52, 52, 52, 52, 52, 1, 5, 5, 5, 5, 5, 5, 5, 5, 5, 5, 8, 8, 8, 8, 8, 8, 8, 8, 24, 24, 24, 24, 24, 24, 24, 24, 24, 24, 24, 24, 24, 24, 24, 24, 24, 24, 24, 24, 24, 24, 24, 24, 14, 14, 14, 14, 14, 14, 14, 14, 14, 14, 14, 14, 14, 14, 4, 4, 4, 4, 5, 5, 5, 5, 5, 2, 2]\n",
            "[6, 6, 6, 6, 6, 6, 13, 13, 13, 13, 13, 13, 13, 13, 13, 13, 13, 13, 13, 4, 4, 4, 4, 24, 24, 24, 24, 24, 24, 24, 24, 24, 24, 24, 24, 24, 24, 24, 24, 24, 24, 24, 24, 24, 24, 24, 24, 1, 5, 5, 5, 5, 5, 10, 10, 10, 10, 10, 10, 10, 10, 10, 10, 12, 12, 12, 12, 12, 12, 12, 12, 12, 12, 12, 12, 6, 6, 6, 6, 6, 6, 5, 5, 5, 5, 5, 15, 15, 15, 15, 15, 15, 15, 15, 15, 15, 15, 15, 15, 15, 15, 3, 3, 3, 8, 8, 8, 8, 8, 8, 8, 8, 4, 4, 4, 4, 4, 4, 4, 4, 10, 10, 10, 10, 10, 10, 10, 10, 10, 10, 21, 21, 21, 21, 21, 21, 21, 21, 21, 21, 21, 21, 21, 21, 21, 21, 21, 21, 21, 21, 21, 8, 8, 8, 8, 8, 8, 8, 8, 3, 3, 3, 5, 5, 5, 5, 5, 2, 2, 8, 8, 8, 8, 8, 8, 8, 8, 5, 5, 5, 5, 5, 2, 2, 11, 11, 11, 11, 11, 11, 11, 11, 11, 11, 11, 3, 3, 3, 5, 5, 5, 5, 5, 16, 16, 16, 16, 16, 16, 16, 16, 16, 16, 16, 16, 16, 16, 16, 16, 4, 4, 4, 4, 20, 20, 20, 20, 20, 20, 20, 20, 20, 20, 20, 20, 20, 20, 20, 20, 20, 20, 20, 20, 10, 10, 10, 10, 10, 10, 10, 10, 10, 10, 2, 2, 9, 9, 9, 9, 9, 9, 9, 9, 9, 5, 5, 5, 5, 5, 4, 4, 4, 4, 11, 11, 11, 11, 11, 11, 11, 11, 11, 11, 11, 4, 4, 4, 4, 1, 5, 5, 5, 5, 5, 12, 12, 12, 12, 12, 12, 12, 12, 12, 12, 12, 12, 9, 9, 9, 9, 9, 9, 9, 9, 9, 20, 20, 20, 20, 20, 20, 20, 20, 20, 20, 20, 20, 20, 20, 20, 20, 20, 20, 20, 20, 7, 7, 7, 7, 7, 7, 7, 27, 27, 27, 27, 27, 27, 27, 27, 27, 27, 27, 27, 27, 27, 27, 27, 27, 27, 27, 27, 27, 27, 27, 27, 27, 27, 27, 12, 12, 12, 12, 12, 12, 12, 12, 12, 12, 12, 12, 16, 16, 16, 16, 16, 16, 16, 16, 16, 16, 16, 16, 16, 16, 16, 16, 1, 9, 9, 9, 9, 9, 9, 9, 9, 9, 2, 2, 24, 24, 24, 24, 24, 24, 24, 24, 24, 24, 24, 24, 24, 24, 24, 24, 24, 24, 24, 24, 24, 24, 24, 24, 3, 3, 3, 3, 3, 3, 3, 3, 3, 4, 4, 4, 4, 10, 10, 10, 10, 10, 10, 10, 10, 10, 10, 5, 5, 5, 5, 5]\n",
            "[3, 3, 3, 2, 2, 1, 1, 4, 4, 4, 4, 2, 2, 1, 3, 3, 3, 6, 6, 6, 6, 6, 6, 6, 6, 6, 6, 6, 6, 9, 9, 9, 9, 9, 9, 9, 9, 9, 7, 7, 7, 7, 7, 7, 7, 1, 9, 9, 9, 9, 9, 9, 9, 9, 9, 4, 4, 4, 4, 6, 6, 6, 6, 6, 6, 4, 4, 4, 4, 4, 4, 4, 4, 8, 8, 8, 8, 8, 8, 8, 8, 5, 5, 5, 5, 5, 34, 34, 34, 34, 34, 34, 34, 34, 34, 34, 34, 34, 34, 34, 34, 34, 34, 34, 34, 34, 34, 34, 34, 34, 34, 34, 34, 34, 34, 34, 34, 34, 34, 34, 2, 2, 2, 2, 5, 5, 5, 5, 5, 8, 8, 8, 8, 8, 8, 8, 8, 17, 17, 17, 17, 17, 17, 17, 17, 17, 17, 17, 17, 17, 17, 17, 17, 17, 1, 14, 14, 14, 14, 14, 14, 14, 14, 14, 14, 14, 14, 14, 14, 3, 3, 3, 7, 7, 7, 7, 7, 7, 7, 12, 12, 12, 12, 12, 12, 12, 12, 12, 12, 12, 12, 11, 11, 11, 11, 11, 11, 11, 11, 11, 11, 11, 3, 3, 3, 3, 3, 3, 14, 14, 14, 14, 14, 14, 14, 14, 14, 14, 14, 14, 14, 14, 3, 3, 3, 2, 2, 1, 3, 3, 3, 14, 14, 14, 14, 14, 14, 14, 14, 14, 14, 14, 14, 14, 14, 3, 3, 3, 2, 2, 3, 3, 3, 11, 11, 11, 11, 11, 11, 11, 11, 11, 11, 11, 1, 15, 15, 15, 15, 15, 15, 15, 15, 15, 15, 15, 15, 15, 15, 15, 2, 2, 1, 5, 5, 5, 5, 5, 5, 5, 5, 5, 5, 9, 9, 9, 9, 9, 9, 9, 9, 9, 6, 6, 6, 6, 6, 6, 3, 3, 3, 8, 8, 8, 8, 8, 8, 8, 8, 5, 5, 5, 5, 5, 3, 3, 3, 8, 8, 8, 8, 8, 8, 8, 8, 11, 11, 11, 11, 11, 11, 11, 11, 11, 11, 11, 2, 2, 15, 15, 15, 15, 15, 15, 15, 15, 15, 15, 15, 15, 15, 15, 15, 8, 8, 8, 8, 8, 8, 8, 8, 2, 2, 8, 8, 8, 8, 8, 8, 8, 8, 2, 2, 6, 6, 6, 6, 6, 6, 5, 5, 5, 5, 5, 4, 4, 4, 4, 3, 3, 3, 3, 3, 3, 1, 2, 2, 1, 1, 6, 6, 6, 6, 6, 6, 1, 3, 3, 3, 7, 7, 7, 7, 7, 7, 7, 1, 8, 8, 8, 8, 8, 8, 8, 8, 3, 3, 3, 1]\n",
            "[23, 23, 23, 23, 23, 23, 23, 23, 23, 23, 23, 23, 23, 23, 23, 23, 23, 23, 23, 23, 23, 23, 23, 26, 26, 26, 26, 26, 26, 26, 26, 26, 26, 26, 26, 26, 26, 26, 26, 26, 26, 26, 26, 26, 26, 26, 26, 26, 26, 5, 5, 5, 5, 5, 7, 7, 7, 7, 7, 7, 7, 2, 2, 1, 6, 6, 6, 6, 6, 6, 8, 8, 8, 8, 8, 8, 8, 8, 6, 6, 6, 6, 6, 6, 2, 2, 1, 2, 2, 3, 3, 3, 5, 5, 5, 5, 5, 5, 5, 5, 5, 5, 1, 4, 4, 4, 4, 2, 2, 1, 5, 5, 5, 5, 5, 2, 2, 23, 23, 23, 23, 23, 23, 23, 23, 23, 23, 23, 23, 23, 23, 23, 23, 23, 23, 23, 23, 23, 23, 23, 2, 2, 28, 28, 28, 28, 28, 28, 28, 28, 28, 28, 28, 28, 28, 28, 28, 28, 28, 28, 28, 28, 28, 28, 28, 28, 28, 28, 28, 28, 1, 1, 6, 6, 6, 6, 6, 6, 1, 1, 1, 6, 6, 6, 6, 6, 6, 4, 4, 4, 4, 8, 8, 8, 8, 8, 8, 8, 8, 13, 13, 13, 13, 13, 13, 13, 13, 13, 13, 13, 13, 13, 8, 8, 8, 8, 8, 8, 8, 8, 5, 5, 5, 5, 5, 4, 4, 4, 4, 3, 3, 3, 1, 5, 5, 5, 5, 5, 2, 2, 4, 4, 4, 4, 5, 5, 5, 5, 5, 9, 9, 9, 9, 9, 9, 9, 9, 9, 2, 2, 7, 7, 7, 7, 7, 7, 7, 6, 6, 6, 6, 6, 6, 12, 12, 12, 12, 12, 12, 12, 12, 12, 12, 12, 12, 3, 3, 3, 2, 2, 8, 8, 8, 8, 8, 8, 8, 8, 20, 20, 20, 20, 20, 20, 20, 20, 20, 20, 20, 20, 20, 20, 20, 20, 20, 20, 20, 20, 2, 2, 25, 25, 25, 25, 25, 25, 25, 25, 25, 25, 25, 25, 25, 25, 25, 25, 25, 25, 25, 25, 25, 25, 25, 25, 25, 3, 3, 3, 2, 2, 2, 2, 3, 3, 3, 4, 4, 4, 4, 1, 4, 4, 4, 4, 13, 13, 13, 13, 13, 13, 13, 13, 13, 13, 13, 13, 13, 2, 2, 1, 2, 2, 20, 20, 20, 20, 20, 20, 20, 20, 20, 20, 20, 20, 20, 20, 20, 20, 20, 20, 20, 20, 1, 13, 13, 13, 13, 13, 13, 13, 13, 13, 13, 13, 13, 13, 1, 1, 20, 20, 20, 20, 20, 20, 20, 20, 20, 20, 20, 20, 20, 20, 20, 20, 20, 20, 20, 20, 1, 4, 4, 4, 4, 1, 14, 14, 14, 14, 14, 14, 14, 14, 14, 14, 14, 14, 14, 14, 8, 8, 8, 8, 8, 8, 8, 8, 12, 12, 12, 12, 12, 12, 12, 12, 12, 12, 12, 12, 1, 2, 2, 2, 2, 4, 4, 4, 4, 1, 2, 2, 1, 2, 2, 1, 1, 3, 3, 3, 3, 3, 3]\n",
            "[1, 14, 14, 14, 14, 14, 14, 14, 14, 14, 14, 14, 14, 14, 14, 24, 24, 24, 24, 24, 24, 24, 24, 24, 24, 24, 24, 24, 24, 24, 24, 24, 24, 24, 24, 24, 24, 24, 24, 1, 2, 2, 1, 1, 3, 3, 3, 4, 4, 4, 4, 2, 2, 2, 2, 1, 4, 4, 4, 4, 2, 2, 1, 4, 4, 4, 4, 4, 4, 4, 4, 3, 3, 3, 2, 2, 2, 2, 2, 2, 2, 2, 11, 11, 11, 11, 11, 11, 11, 11, 11, 11, 11, 1, 1, 1, 1, 4, 4, 4, 4, 1, 1, 2, 2, 6, 6, 6, 6, 6, 6, 4, 4, 4, 4, 4, 4, 4, 4, 16, 16, 16, 16, 16, 16, 16, 16, 16, 16, 16, 16, 16, 16, 16, 16, 2, 2, 5, 5, 5, 5, 5, 2, 2, 5, 5, 5, 5, 5, 4, 4, 4, 4, 2, 2, 2, 2, 8, 8, 8, 8, 8, 8, 8, 8, 7, 7, 7, 7, 7, 7, 7, 1, 4, 4, 4, 4, 4, 4, 4, 4, 16, 16, 16, 16, 16, 16, 16, 16, 16, 16, 16, 16, 16, 16, 16, 16, 4, 4, 4, 4, 1, 2, 2, 24, 24, 24, 24, 24, 24, 24, 24, 24, 24, 24, 24, 24, 24, 24, 24, 24, 24, 24, 24, 24, 24, 24, 24, 2, 2, 2, 2, 10, 10, 10, 10, 10, 10, 10, 10, 10, 10, 21, 21, 21, 21, 21, 21, 21, 21, 21, 21, 21, 21, 21, 21, 21, 21, 21, 21, 21, 21, 21, 1, 1, 6, 6, 6, 6, 6, 6, 1, 3, 3, 3, 2, 2, 6, 6, 6, 6, 6, 6, 1, 25, 25, 25, 25, 25, 25, 25, 25, 25, 25, 25, 25, 25, 25, 25, 25, 25, 25, 25, 25, 25, 25, 25, 25, 25, 4, 4, 4, 4, 3, 3, 3, 2, 2, 2, 2, 15, 15, 15, 15, 15, 15, 15, 15, 15, 15, 15, 15, 15, 15, 15, 2, 2, 2, 2, 16, 16, 16, 16, 16, 16, 16, 16, 16, 16, 16, 16, 16, 16, 16, 16, 1, 9, 9, 9, 9, 9, 9, 9, 9, 9, 7, 7, 7, 7, 7, 7, 7, 3, 3, 3, 1, 1, 16, 16, 16, 16, 16, 16, 16, 16, 16, 16, 16, 16, 16, 16, 16, 16, 1, 2, 2, 6, 6, 6, 6, 6, 6, 13, 13, 13, 13, 13, 13, 13, 13, 13, 13, 13, 13, 13]\n",
            "[80, 80, 80, 80, 80, 80, 80, 80, 80, 80, 80, 80, 80, 80, 80, 80, 80, 80, 80, 80, 80, 80, 80, 80, 80, 80, 80, 80, 80, 80, 80, 80, 80, 80, 80, 80, 80, 80, 80, 80, 80, 80, 80, 80, 80, 80, 80, 80, 80, 80, 80, 80, 80, 80, 80, 80, 80, 80, 80, 80, 80, 80, 80, 80, 80, 80, 80, 80, 80, 80, 80, 80, 80, 80, 80, 80, 80, 80, 80, 80]\n",
            "[12, 12, 12, 12, 12, 12, 12, 12, 12, 12, 12, 12, 17, 17, 17, 17, 17, 17, 17, 17, 17, 17, 17, 17, 17, 17, 17, 17, 17, 2, 2, 7, 7, 7, 7, 7, 7, 7, 4, 4, 4, 4, 1, 2, 2, 9, 9, 9, 9, 9, 9, 9, 9, 9, 4, 4, 4, 4, 5, 5, 5, 5, 5, 2, 2, 1, 4, 4, 4, 4, 4, 4, 4, 4, 3, 3, 3, 19, 19, 19, 19, 19, 19, 19, 19, 19, 19, 19, 19, 19, 19, 19, 19, 19, 19, 19, 3, 3, 3, 16, 16, 16, 16, 16, 16, 16, 16, 16, 16, 16, 16, 16, 16, 16, 16, 4, 4, 4, 4, 2, 2, 4, 4, 4, 4, 1, 16, 16, 16, 16, 16, 16, 16, 16, 16, 16, 16, 16, 16, 16, 16, 16, 14, 14, 14, 14, 14, 14, 14, 14, 14, 14, 14, 14, 14, 14, 1, 11, 11, 11, 11, 11, 11, 11, 11, 11, 11, 11, 7, 7, 7, 7, 7, 7, 7, 2, 2, 3, 3, 3, 2, 2, 2, 2, 6, 6, 6, 6, 6, 6, 2, 2, 2, 2, 2, 2, 3, 3, 3, 5, 5, 5, 5, 5, 2, 2, 4, 4, 4, 4, 8, 8, 8, 8, 8, 8, 8, 8, 7, 7, 7, 7, 7, 7, 7, 6, 6, 6, 6, 6, 6, 1, 9, 9, 9, 9, 9, 9, 9, 9, 9, 2, 2, 2, 2, 6, 6, 6, 6, 6, 6, 3, 3, 3, 1, 7, 7, 7, 7, 7, 7, 7, 1, 1, 2, 2, 4, 4, 4, 4, 1, 11, 11, 11, 11, 11, 11, 11, 11, 11, 11, 11, 2, 2, 4, 4, 4, 4, 4, 4, 4, 4, 2, 2, 2, 2, 1, 2, 2, 12, 12, 12, 12, 12, 12, 12, 12, 12, 12, 12, 12, 5, 5, 5, 5, 5, 2, 2, 5, 5, 5, 5, 5, 5, 5, 5, 5, 5, 18, 18, 18, 18, 18, 18, 18, 18, 18, 18, 18, 18, 18, 18, 18, 18, 18, 18, 6, 6, 6, 6, 6, 6, 1, 1, 12, 12, 12, 12, 12, 12, 12, 12, 12, 12, 12, 12, 29, 29, 29, 29, 29, 29, 29, 29, 29, 29, 29, 29, 29, 29, 29, 29, 29, 29, 29, 29, 29, 29, 29, 29, 29, 29, 29, 29, 29, 2, 2, 39, 39, 39, 39, 39, 39, 39, 39, 39, 39, 39, 39, 39, 39, 39, 39, 39, 39, 39, 39, 39, 39, 39, 39, 39, 39, 39, 39, 39, 39, 39, 39, 39, 39, 39, 39, 39, 39, 39, 2, 2, 3, 3, 3, 4, 4, 4, 4, 3, 3, 3, 1, 1, 7, 7, 7, 7, 7, 7, 7, 5, 5, 5, 5, 5, 1]\n",
            "[5, 5, 5, 5, 5, 4, 4, 4, 4, 8, 8, 8, 8, 8, 8, 8, 8, 2, 2, 6, 6, 6, 6, 6, 6, 4, 4, 4, 4, 2, 2, 2, 2, 1, 2, 2, 9, 9, 9, 9, 9, 9, 9, 9, 9, 6, 6, 6, 6, 6, 6, 5, 5, 5, 5, 5, 6, 6, 6, 6, 6, 6, 3, 3, 3, 4, 4, 4, 4, 2, 2, 2, 2, 1, 22, 22, 22, 22, 22, 22, 22, 22, 22, 22, 22, 22, 22, 22, 22, 22, 22, 22, 22, 22, 22, 22, 6, 6, 6, 6, 6, 6, 1, 4, 4, 4, 4, 2, 2, 1, 2, 2, 1, 8, 8, 8, 8, 8, 8, 8, 8, 14, 14, 14, 14, 14, 14, 14, 14, 14, 14, 14, 14, 14, 14, 1, 1, 11, 11, 11, 11, 11, 11, 11, 11, 11, 11, 11, 9, 9, 9, 9, 9, 9, 9, 9, 9, 9, 9, 9, 9, 9, 9, 9, 9, 9, 11, 11, 11, 11, 11, 11, 11, 11, 11, 11, 11, 1, 1, 2, 2, 3, 3, 3, 10, 10, 10, 10, 10, 10, 10, 10, 10, 10, 3, 3, 3, 8, 8, 8, 8, 8, 8, 8, 8, 1, 1, 1, 3, 3, 3, 11, 11, 11, 11, 11, 11, 11, 11, 11, 11, 11, 1, 2, 2, 2, 2, 1, 1, 4, 4, 4, 4, 2, 2, 2, 2, 11, 11, 11, 11, 11, 11, 11, 11, 11, 11, 11, 3, 3, 3, 8, 8, 8, 8, 8, 8, 8, 8, 5, 5, 5, 5, 5, 1, 1, 4, 4, 4, 4, 9, 9, 9, 9, 9, 9, 9, 9, 9, 2, 2, 38, 38, 38, 38, 38, 38, 38, 38, 38, 38, 38, 38, 38, 38, 38, 38, 38, 38, 38, 38, 38, 38, 38, 38, 38, 38, 38, 38, 38, 38, 38, 38, 38, 38, 38, 38, 38, 38, 11, 11, 11, 11, 11, 11, 11, 11, 11, 11, 11, 1, 13, 13, 13, 13, 13, 13, 13, 13, 13, 13, 13, 13, 13, 16, 16, 16, 16, 16, 16, 16, 16, 16, 16, 16, 16, 16, 16, 16, 16, 6, 6, 6, 6, 6, 6, 2, 2, 1, 1, 2, 2, 1, 1, 1, 5, 5, 5, 5, 5, 2, 2, 4, 4, 4, 4, 2, 2, 3, 3, 3, 13, 13, 13, 13, 13, 13, 13, 13, 13, 13, 13, 13, 13]\n"
          ],
          "name": "stdout"
        },
        {
          "output_type": "stream",
          "text": [
            "/usr/local/lib/python3.6/dist-packages/ipykernel_launcher.py:3: SettingWithCopyWarning: \n",
            "A value is trying to be set on a copy of a slice from a DataFrame.\n",
            "Try using .loc[row_indexer,col_indexer] = value instead\n",
            "\n",
            "See the caveats in the documentation: http://pandas.pydata.org/pandas-docs/stable/user_guide/indexing.html#returning-a-view-versus-a-copy\n",
            "  This is separate from the ipykernel package so we can avoid doing imports until\n"
          ],
          "name": "stderr"
        }
      ]
    },
    {
      "cell_type": "code",
      "metadata": {
        "id": "YAK10HmwAfMJ",
        "colab_type": "code",
        "outputId": "62ee45ec-8128-4ebf-9c76-b5258164a60d",
        "colab": {
          "base_uri": "https://localhost:8080/",
          "height": 654
        }
      },
      "source": [
        "data_by_well['ALEXANDER D'].head(20)"
      ],
      "execution_count": 0,
      "outputs": [
        {
          "output_type": "execute_result",
          "data": {
            "text/html": [
              "<div>\n",
              "<style scoped>\n",
              "    .dataframe tbody tr th:only-of-type {\n",
              "        vertical-align: middle;\n",
              "    }\n",
              "\n",
              "    .dataframe tbody tr th {\n",
              "        vertical-align: top;\n",
              "    }\n",
              "\n",
              "    .dataframe thead th {\n",
              "        text-align: right;\n",
              "    }\n",
              "</style>\n",
              "<table border=\"1\" class=\"dataframe\">\n",
              "  <thead>\n",
              "    <tr style=\"text-align: right;\">\n",
              "      <th></th>\n",
              "      <th>Facies</th>\n",
              "      <th>Formation</th>\n",
              "      <th>Well Name</th>\n",
              "      <th>Depth</th>\n",
              "      <th>GR</th>\n",
              "      <th>ILD_log10</th>\n",
              "      <th>DeltaPHI</th>\n",
              "      <th>PHIND</th>\n",
              "      <th>PE</th>\n",
              "      <th>NM_M</th>\n",
              "      <th>RELPOS</th>\n",
              "      <th>unitwidth</th>\n",
              "    </tr>\n",
              "  </thead>\n",
              "  <tbody>\n",
              "    <tr>\n",
              "      <th>471</th>\n",
              "      <td>3</td>\n",
              "      <td>A1 SH</td>\n",
              "      <td>ALEXANDER D</td>\n",
              "      <td>2887.5</td>\n",
              "      <td>88.71</td>\n",
              "      <td>0.612</td>\n",
              "      <td>6.7</td>\n",
              "      <td>10.605</td>\n",
              "      <td>NaN</td>\n",
              "      <td>1</td>\n",
              "      <td>1.000</td>\n",
              "      <td>7</td>\n",
              "    </tr>\n",
              "    <tr>\n",
              "      <th>472</th>\n",
              "      <td>3</td>\n",
              "      <td>A1 SH</td>\n",
              "      <td>ALEXANDER D</td>\n",
              "      <td>2888.0</td>\n",
              "      <td>92.71</td>\n",
              "      <td>0.583</td>\n",
              "      <td>11.0</td>\n",
              "      <td>12.515</td>\n",
              "      <td>NaN</td>\n",
              "      <td>1</td>\n",
              "      <td>0.974</td>\n",
              "      <td>7</td>\n",
              "    </tr>\n",
              "    <tr>\n",
              "      <th>473</th>\n",
              "      <td>3</td>\n",
              "      <td>A1 SH</td>\n",
              "      <td>ALEXANDER D</td>\n",
              "      <td>2888.5</td>\n",
              "      <td>94.54</td>\n",
              "      <td>0.579</td>\n",
              "      <td>12.0</td>\n",
              "      <td>13.410</td>\n",
              "      <td>NaN</td>\n",
              "      <td>1</td>\n",
              "      <td>0.949</td>\n",
              "      <td>7</td>\n",
              "    </tr>\n",
              "    <tr>\n",
              "      <th>474</th>\n",
              "      <td>3</td>\n",
              "      <td>A1 SH</td>\n",
              "      <td>ALEXANDER D</td>\n",
              "      <td>2889.0</td>\n",
              "      <td>95.31</td>\n",
              "      <td>0.579</td>\n",
              "      <td>11.5</td>\n",
              "      <td>13.750</td>\n",
              "      <td>NaN</td>\n",
              "      <td>1</td>\n",
              "      <td>0.923</td>\n",
              "      <td>7</td>\n",
              "    </tr>\n",
              "    <tr>\n",
              "      <th>475</th>\n",
              "      <td>3</td>\n",
              "      <td>A1 SH</td>\n",
              "      <td>ALEXANDER D</td>\n",
              "      <td>2889.5</td>\n",
              "      <td>93.79</td>\n",
              "      <td>0.572</td>\n",
              "      <td>10.3</td>\n",
              "      <td>13.405</td>\n",
              "      <td>NaN</td>\n",
              "      <td>1</td>\n",
              "      <td>0.897</td>\n",
              "      <td>7</td>\n",
              "    </tr>\n",
              "    <tr>\n",
              "      <th>476</th>\n",
              "      <td>3</td>\n",
              "      <td>A1 SH</td>\n",
              "      <td>ALEXANDER D</td>\n",
              "      <td>2890.0</td>\n",
              "      <td>86.00</td>\n",
              "      <td>0.547</td>\n",
              "      <td>9.7</td>\n",
              "      <td>12.920</td>\n",
              "      <td>NaN</td>\n",
              "      <td>1</td>\n",
              "      <td>0.872</td>\n",
              "      <td>7</td>\n",
              "    </tr>\n",
              "    <tr>\n",
              "      <th>477</th>\n",
              "      <td>3</td>\n",
              "      <td>A1 SH</td>\n",
              "      <td>ALEXANDER D</td>\n",
              "      <td>2890.5</td>\n",
              "      <td>83.66</td>\n",
              "      <td>0.531</td>\n",
              "      <td>9.9</td>\n",
              "      <td>12.750</td>\n",
              "      <td>NaN</td>\n",
              "      <td>1</td>\n",
              "      <td>0.846</td>\n",
              "      <td>7</td>\n",
              "    </tr>\n",
              "    <tr>\n",
              "      <th>478</th>\n",
              "      <td>2</td>\n",
              "      <td>A1 SH</td>\n",
              "      <td>ALEXANDER D</td>\n",
              "      <td>2891.0</td>\n",
              "      <td>84.96</td>\n",
              "      <td>0.516</td>\n",
              "      <td>10.0</td>\n",
              "      <td>12.710</td>\n",
              "      <td>NaN</td>\n",
              "      <td>1</td>\n",
              "      <td>0.821</td>\n",
              "      <td>2</td>\n",
              "    </tr>\n",
              "    <tr>\n",
              "      <th>479</th>\n",
              "      <td>2</td>\n",
              "      <td>A1 SH</td>\n",
              "      <td>ALEXANDER D</td>\n",
              "      <td>2891.5</td>\n",
              "      <td>88.93</td>\n",
              "      <td>0.515</td>\n",
              "      <td>9.4</td>\n",
              "      <td>13.510</td>\n",
              "      <td>NaN</td>\n",
              "      <td>1</td>\n",
              "      <td>0.795</td>\n",
              "      <td>2</td>\n",
              "    </tr>\n",
              "    <tr>\n",
              "      <th>480</th>\n",
              "      <td>3</td>\n",
              "      <td>A1 SH</td>\n",
              "      <td>ALEXANDER D</td>\n",
              "      <td>2892.0</td>\n",
              "      <td>91.35</td>\n",
              "      <td>0.521</td>\n",
              "      <td>7.4</td>\n",
              "      <td>15.330</td>\n",
              "      <td>NaN</td>\n",
              "      <td>1</td>\n",
              "      <td>0.769</td>\n",
              "      <td>3</td>\n",
              "    </tr>\n",
              "    <tr>\n",
              "      <th>481</th>\n",
              "      <td>3</td>\n",
              "      <td>A1 SH</td>\n",
              "      <td>ALEXANDER D</td>\n",
              "      <td>2892.5</td>\n",
              "      <td>92.43</td>\n",
              "      <td>0.521</td>\n",
              "      <td>7.4</td>\n",
              "      <td>16.650</td>\n",
              "      <td>NaN</td>\n",
              "      <td>1</td>\n",
              "      <td>0.744</td>\n",
              "      <td>3</td>\n",
              "    </tr>\n",
              "    <tr>\n",
              "      <th>482</th>\n",
              "      <td>3</td>\n",
              "      <td>A1 SH</td>\n",
              "      <td>ALEXANDER D</td>\n",
              "      <td>2893.0</td>\n",
              "      <td>92.39</td>\n",
              "      <td>0.526</td>\n",
              "      <td>7.6</td>\n",
              "      <td>16.890</td>\n",
              "      <td>NaN</td>\n",
              "      <td>1</td>\n",
              "      <td>0.718</td>\n",
              "      <td>3</td>\n",
              "    </tr>\n",
              "    <tr>\n",
              "      <th>483</th>\n",
              "      <td>2</td>\n",
              "      <td>A1 SH</td>\n",
              "      <td>ALEXANDER D</td>\n",
              "      <td>2893.5</td>\n",
              "      <td>91.94</td>\n",
              "      <td>0.526</td>\n",
              "      <td>4.6</td>\n",
              "      <td>16.310</td>\n",
              "      <td>NaN</td>\n",
              "      <td>1</td>\n",
              "      <td>0.692</td>\n",
              "      <td>13</td>\n",
              "    </tr>\n",
              "    <tr>\n",
              "      <th>484</th>\n",
              "      <td>2</td>\n",
              "      <td>A1 SH</td>\n",
              "      <td>ALEXANDER D</td>\n",
              "      <td>2894.0</td>\n",
              "      <td>88.21</td>\n",
              "      <td>0.525</td>\n",
              "      <td>2.9</td>\n",
              "      <td>15.330</td>\n",
              "      <td>NaN</td>\n",
              "      <td>1</td>\n",
              "      <td>0.667</td>\n",
              "      <td>13</td>\n",
              "    </tr>\n",
              "    <tr>\n",
              "      <th>485</th>\n",
              "      <td>2</td>\n",
              "      <td>A1 SH</td>\n",
              "      <td>ALEXANDER D</td>\n",
              "      <td>2894.5</td>\n",
              "      <td>83.20</td>\n",
              "      <td>0.524</td>\n",
              "      <td>1.9</td>\n",
              "      <td>14.215</td>\n",
              "      <td>NaN</td>\n",
              "      <td>1</td>\n",
              "      <td>0.641</td>\n",
              "      <td>13</td>\n",
              "    </tr>\n",
              "    <tr>\n",
              "      <th>486</th>\n",
              "      <td>2</td>\n",
              "      <td>A1 SH</td>\n",
              "      <td>ALEXANDER D</td>\n",
              "      <td>2895.0</td>\n",
              "      <td>78.23</td>\n",
              "      <td>0.513</td>\n",
              "      <td>3.0</td>\n",
              "      <td>13.495</td>\n",
              "      <td>NaN</td>\n",
              "      <td>1</td>\n",
              "      <td>0.615</td>\n",
              "      <td>13</td>\n",
              "    </tr>\n",
              "    <tr>\n",
              "      <th>487</th>\n",
              "      <td>2</td>\n",
              "      <td>A1 SH</td>\n",
              "      <td>ALEXANDER D</td>\n",
              "      <td>2895.5</td>\n",
              "      <td>74.22</td>\n",
              "      <td>0.500</td>\n",
              "      <td>5.0</td>\n",
              "      <td>11.365</td>\n",
              "      <td>NaN</td>\n",
              "      <td>1</td>\n",
              "      <td>0.590</td>\n",
              "      <td>13</td>\n",
              "    </tr>\n",
              "    <tr>\n",
              "      <th>488</th>\n",
              "      <td>2</td>\n",
              "      <td>A1 SH</td>\n",
              "      <td>ALEXANDER D</td>\n",
              "      <td>2896.0</td>\n",
              "      <td>72.36</td>\n",
              "      <td>0.480</td>\n",
              "      <td>6.6</td>\n",
              "      <td>10.045</td>\n",
              "      <td>NaN</td>\n",
              "      <td>1</td>\n",
              "      <td>0.564</td>\n",
              "      <td>13</td>\n",
              "    </tr>\n",
              "    <tr>\n",
              "      <th>489</th>\n",
              "      <td>2</td>\n",
              "      <td>A1 SH</td>\n",
              "      <td>ALEXANDER D</td>\n",
              "      <td>2896.5</td>\n",
              "      <td>72.84</td>\n",
              "      <td>0.465</td>\n",
              "      <td>7.2</td>\n",
              "      <td>9.620</td>\n",
              "      <td>NaN</td>\n",
              "      <td>1</td>\n",
              "      <td>0.538</td>\n",
              "      <td>13</td>\n",
              "    </tr>\n",
              "    <tr>\n",
              "      <th>490</th>\n",
              "      <td>2</td>\n",
              "      <td>A1 SH</td>\n",
              "      <td>ALEXANDER D</td>\n",
              "      <td>2897.0</td>\n",
              "      <td>74.19</td>\n",
              "      <td>0.455</td>\n",
              "      <td>8.0</td>\n",
              "      <td>9.640</td>\n",
              "      <td>NaN</td>\n",
              "      <td>1</td>\n",
              "      <td>0.513</td>\n",
              "      <td>13</td>\n",
              "    </tr>\n",
              "  </tbody>\n",
              "</table>\n",
              "</div>"
            ],
            "text/plain": [
              "     Facies Formation    Well Name   Depth  ...  PE  NM_M  RELPOS  unitwidth\n",
              "471       3     A1 SH  ALEXANDER D  2887.5  ... NaN     1   1.000          7\n",
              "472       3     A1 SH  ALEXANDER D  2888.0  ... NaN     1   0.974          7\n",
              "473       3     A1 SH  ALEXANDER D  2888.5  ... NaN     1   0.949          7\n",
              "474       3     A1 SH  ALEXANDER D  2889.0  ... NaN     1   0.923          7\n",
              "475       3     A1 SH  ALEXANDER D  2889.5  ... NaN     1   0.897          7\n",
              "476       3     A1 SH  ALEXANDER D  2890.0  ... NaN     1   0.872          7\n",
              "477       3     A1 SH  ALEXANDER D  2890.5  ... NaN     1   0.846          7\n",
              "478       2     A1 SH  ALEXANDER D  2891.0  ... NaN     1   0.821          2\n",
              "479       2     A1 SH  ALEXANDER D  2891.5  ... NaN     1   0.795          2\n",
              "480       3     A1 SH  ALEXANDER D  2892.0  ... NaN     1   0.769          3\n",
              "481       3     A1 SH  ALEXANDER D  2892.5  ... NaN     1   0.744          3\n",
              "482       3     A1 SH  ALEXANDER D  2893.0  ... NaN     1   0.718          3\n",
              "483       2     A1 SH  ALEXANDER D  2893.5  ... NaN     1   0.692         13\n",
              "484       2     A1 SH  ALEXANDER D  2894.0  ... NaN     1   0.667         13\n",
              "485       2     A1 SH  ALEXANDER D  2894.5  ... NaN     1   0.641         13\n",
              "486       2     A1 SH  ALEXANDER D  2895.0  ... NaN     1   0.615         13\n",
              "487       2     A1 SH  ALEXANDER D  2895.5  ... NaN     1   0.590         13\n",
              "488       2     A1 SH  ALEXANDER D  2896.0  ... NaN     1   0.564         13\n",
              "489       2     A1 SH  ALEXANDER D  2896.5  ... NaN     1   0.538         13\n",
              "490       2     A1 SH  ALEXANDER D  2897.0  ... NaN     1   0.513         13\n",
              "\n",
              "[20 rows x 12 columns]"
            ]
          },
          "metadata": {
            "tags": []
          },
          "execution_count": 22
        }
      ]
    },
    {
      "cell_type": "code",
      "metadata": {
        "id": "w18VNl-MeZat",
        "colab_type": "code",
        "colab": {}
      },
      "source": [
        "!pip install git+https://github.com/nekoumei/dtreeplt.git"
      ],
      "execution_count": 0,
      "outputs": []
    },
    {
      "cell_type": "code",
      "metadata": {
        "colab_type": "code",
        "outputId": "50231dec-6f9e-43c4-b4a6-9109b88d6cd4",
        "id": "lvHJu28gpw41",
        "colab": {
          "base_uri": "https://localhost:8080/",
          "height": 595
        }
      },
      "source": [
        "from sklearn.datasets import load_iris\n",
        "from sklearn.tree import DecisionTreeClassifier\n",
        "from dtreeplt import dtreeplt\n",
        "\n",
        "rl_codes_df\n",
        "\n",
        "model = DecisionTreeClassifier(max_depth=2)\n",
        "model.fit(rl_codes_df.length.values.reshape(-1, 1), rl_codes_df.facies_code.values.reshape(-1, 1))\n",
        "\n",
        "\n",
        "\n",
        "dtree = dtreeplt(\n",
        "    model=model,\n",
        "    feature_names=[\"Length\"],\n",
        "    target_names=range(9),\n",
        "    disp_values=False\n",
        ")\n",
        "fig = dtree.view()"
      ],
      "execution_count": 0,
      "outputs": [
        {
          "output_type": "display_data",
          "data": {
            "image/png": "[encoded data removed]",
            "text/plain": [
              "<Figure size 1555.2x720 with 1 Axes>"
            ]
          },
          "metadata": {
            "tags": []
          }
        }
      ]
    },
    {
      "cell_type": "code",
      "metadata": {
        "id": "VKTHhsXGjDCE",
        "colab_type": "code",
        "outputId": "7eb1f243-112f-4038-c1b2-f865e4be93ad",
        "colab": {
          "base_uri": "https://localhost:8080/",
          "height": 685
        }
      },
      "source": [
        "rl_codes_df[\"length\"].value_counts()"
      ],
      "execution_count": 0,
      "outputs": [
        {
          "output_type": "execute_result",
          "data": {
            "text/plain": [
              "2     129\n",
              "1     119\n",
              "4      70\n",
              "3      63\n",
              "5      48\n",
              "6      43\n",
              "8      31\n",
              "7      20\n",
              "9      18\n",
              "11     16\n",
              "12     14\n",
              "10     11\n",
              "16     10\n",
              "14     10\n",
              "13      9\n",
              "15      8\n",
              "20      6\n",
              "24      6\n",
              "21      5\n",
              "17      4\n",
              "18      3\n",
              "29      3\n",
              "26      3\n",
              "19      2\n",
              "23      2\n",
              "25      2\n",
              "27      2\n",
              "28      2\n",
              "52      1\n",
              "22      1\n",
              "30      1\n",
              "32      1\n",
              "34      1\n",
              "37      1\n",
              "38      1\n",
              "39      1\n",
              "80      1\n",
              "Name: length, dtype: int64"
            ]
          },
          "metadata": {
            "tags": []
          },
          "execution_count": 25
        }
      ]
    },
    {
      "cell_type": "code",
      "metadata": {
        "id": "trUJlYhhiizW",
        "colab_type": "code",
        "colab": {}
      },
      "source": [
        "rl_codes = []\n",
        "\n",
        "for well_df in data_by_well.items():\n",
        "  rl_codes.extend([(b, sum(1 for x in g)) for b, g in groupby(data_by_well['ALEXANDER D']['Facies'].values)])"
      ],
      "execution_count": 0,
      "outputs": []
    },
    {
      "cell_type": "code",
      "metadata": {
        "id": "O5bSpw8TkExp",
        "colab_type": "code",
        "outputId": "3174b43f-b517-4a6d-b126-e9df28c6ad66",
        "colab": {
          "base_uri": "https://localhost:8080/",
          "height": 34
        }
      },
      "source": [
        "rl_codes[0]"
      ],
      "execution_count": 0,
      "outputs": [
        {
          "output_type": "execute_result",
          "data": {
            "text/plain": [
              "(3, 7)"
            ]
          },
          "metadata": {
            "tags": []
          },
          "execution_count": 27
        }
      ]
    },
    {
      "cell_type": "code",
      "metadata": {
        "id": "Vn_ojVuTGxNf",
        "colab_type": "code",
        "outputId": "511907eb-39d9-4d61-cf74-b6715b8972e9",
        "colab": {
          "base_uri": "https://localhost:8080/",
          "height": 439
        }
      },
      "source": [
        "df_by_well = pd.concat(data_by_well).reset_index().sample(frac=1)"
      ],
      "execution_count": 0,
      "outputs": [
        {
          "output_type": "stream",
          "text": [
            "/usr/local/lib/python3.6/dist-packages/sklearn/utils/deprecation.py:66: DeprecationWarning: Class Imputer is deprecated; Imputer was deprecated in version 0.20 and will be removed in 0.22. Import impute.SimpleImputer from sklearn instead.\n",
            "  warnings.warn(msg, category=DeprecationWarning)\n"
          ],
          "name": "stderr"
        },
        {
          "output_type": "error",
          "ename": "ValueError",
          "evalue": "ignored",
          "traceback": [
            "\u001b[0;31m---------------------------------------------------------------------------\u001b[0m",
            "\u001b[0;31mValueError\u001b[0m                                Traceback (most recent call last)",
            "\u001b[0;32m<ipython-input-41-71e50dd2aef0>\u001b[0m in \u001b[0;36m<module>\u001b[0;34m()\u001b[0m\n\u001b[1;32m      2\u001b[0m \u001b[0;34m\u001b[0m\u001b[0m\n\u001b[1;32m      3\u001b[0m \u001b[0mimp\u001b[0m \u001b[0;34m=\u001b[0m \u001b[0mpreprocessing\u001b[0m\u001b[0;34m.\u001b[0m\u001b[0mImputer\u001b[0m\u001b[0;34m(\u001b[0m\u001b[0mmissing_values\u001b[0m\u001b[0;34m=\u001b[0m\u001b[0;34m'NaN'\u001b[0m\u001b[0;34m,\u001b[0m \u001b[0mstrategy\u001b[0m\u001b[0;34m=\u001b[0m\u001b[0;34m'mean'\u001b[0m\u001b[0;34m,\u001b[0m \u001b[0maxis\u001b[0m\u001b[0;34m=\u001b[0m\u001b[0;36m0\u001b[0m\u001b[0;34m)\u001b[0m\u001b[0;34m\u001b[0m\u001b[0;34m\u001b[0m\u001b[0m\n\u001b[0;32m----> 4\u001b[0;31m \u001b[0mimp\u001b[0m \u001b[0;34m=\u001b[0m \u001b[0mimp\u001b[0m\u001b[0;34m.\u001b[0m\u001b[0mfit\u001b[0m\u001b[0;34m(\u001b[0m\u001b[0mdf_by_well\u001b[0m\u001b[0;34m)\u001b[0m\u001b[0;34m\u001b[0m\u001b[0;34m\u001b[0m\u001b[0m\n\u001b[0m\u001b[1;32m      5\u001b[0m \u001b[0mdf_by_well\u001b[0m \u001b[0;34m=\u001b[0m \u001b[0mimp\u001b[0m\u001b[0;34m.\u001b[0m\u001b[0mtransform\u001b[0m\u001b[0;34m(\u001b[0m\u001b[0mdf_by_well\u001b[0m\u001b[0;34m)\u001b[0m\u001b[0;34m\u001b[0m\u001b[0;34m\u001b[0m\u001b[0m\n\u001b[1;32m      6\u001b[0m \u001b[0;34m\u001b[0m\u001b[0m\n",
            "\u001b[0;32m/usr/local/lib/python3.6/dist-packages/sklearn/preprocessing/imputation.py\u001b[0m in \u001b[0;36mfit\u001b[0;34m(self, X, y)\u001b[0m\n\u001b[1;32m    152\u001b[0m         \u001b[0;32mif\u001b[0m \u001b[0mself\u001b[0m\u001b[0;34m.\u001b[0m\u001b[0maxis\u001b[0m \u001b[0;34m==\u001b[0m \u001b[0;36m0\u001b[0m\u001b[0;34m:\u001b[0m\u001b[0;34m\u001b[0m\u001b[0;34m\u001b[0m\u001b[0m\n\u001b[1;32m    153\u001b[0m             X = check_array(X, accept_sparse='csc', dtype=np.float64,\n\u001b[0;32m--> 154\u001b[0;31m                             force_all_finite=False)\n\u001b[0m\u001b[1;32m    155\u001b[0m \u001b[0;34m\u001b[0m\u001b[0m\n\u001b[1;32m    156\u001b[0m             \u001b[0;32mif\u001b[0m \u001b[0msparse\u001b[0m\u001b[0;34m.\u001b[0m\u001b[0missparse\u001b[0m\u001b[0;34m(\u001b[0m\u001b[0mX\u001b[0m\u001b[0;34m)\u001b[0m\u001b[0;34m:\u001b[0m\u001b[0;34m\u001b[0m\u001b[0;34m\u001b[0m\u001b[0m\n",
            "\u001b[0;32m/usr/local/lib/python3.6/dist-packages/sklearn/utils/validation.py\u001b[0m in \u001b[0;36mcheck_array\u001b[0;34m(array, accept_sparse, accept_large_sparse, dtype, order, copy, force_all_finite, ensure_2d, allow_nd, ensure_min_samples, ensure_min_features, warn_on_dtype, estimator)\u001b[0m\n\u001b[1;32m    494\u001b[0m             \u001b[0;32mtry\u001b[0m\u001b[0;34m:\u001b[0m\u001b[0;34m\u001b[0m\u001b[0;34m\u001b[0m\u001b[0m\n\u001b[1;32m    495\u001b[0m                 \u001b[0mwarnings\u001b[0m\u001b[0;34m.\u001b[0m\u001b[0msimplefilter\u001b[0m\u001b[0;34m(\u001b[0m\u001b[0;34m'error'\u001b[0m\u001b[0;34m,\u001b[0m \u001b[0mComplexWarning\u001b[0m\u001b[0;34m)\u001b[0m\u001b[0;34m\u001b[0m\u001b[0;34m\u001b[0m\u001b[0m\n\u001b[0;32m--> 496\u001b[0;31m                 \u001b[0marray\u001b[0m \u001b[0;34m=\u001b[0m \u001b[0mnp\u001b[0m\u001b[0;34m.\u001b[0m\u001b[0masarray\u001b[0m\u001b[0;34m(\u001b[0m\u001b[0marray\u001b[0m\u001b[0;34m,\u001b[0m \u001b[0mdtype\u001b[0m\u001b[0;34m=\u001b[0m\u001b[0mdtype\u001b[0m\u001b[0;34m,\u001b[0m \u001b[0morder\u001b[0m\u001b[0;34m=\u001b[0m\u001b[0morder\u001b[0m\u001b[0;34m)\u001b[0m\u001b[0;34m\u001b[0m\u001b[0;34m\u001b[0m\u001b[0m\n\u001b[0m\u001b[1;32m    497\u001b[0m             \u001b[0;32mexcept\u001b[0m \u001b[0mComplexWarning\u001b[0m\u001b[0;34m:\u001b[0m\u001b[0;34m\u001b[0m\u001b[0;34m\u001b[0m\u001b[0m\n\u001b[1;32m    498\u001b[0m                 raise ValueError(\"Complex data not supported\\n\"\n",
            "\u001b[0;32m/usr/local/lib/python3.6/dist-packages/numpy/core/_asarray.py\u001b[0m in \u001b[0;36masarray\u001b[0;34m(a, dtype, order)\u001b[0m\n\u001b[1;32m     83\u001b[0m \u001b[0;34m\u001b[0m\u001b[0m\n\u001b[1;32m     84\u001b[0m     \"\"\"\n\u001b[0;32m---> 85\u001b[0;31m     \u001b[0;32mreturn\u001b[0m \u001b[0marray\u001b[0m\u001b[0;34m(\u001b[0m\u001b[0ma\u001b[0m\u001b[0;34m,\u001b[0m \u001b[0mdtype\u001b[0m\u001b[0;34m,\u001b[0m \u001b[0mcopy\u001b[0m\u001b[0;34m=\u001b[0m\u001b[0;32mFalse\u001b[0m\u001b[0;34m,\u001b[0m \u001b[0morder\u001b[0m\u001b[0;34m=\u001b[0m\u001b[0morder\u001b[0m\u001b[0;34m)\u001b[0m\u001b[0;34m\u001b[0m\u001b[0;34m\u001b[0m\u001b[0m\n\u001b[0m\u001b[1;32m     86\u001b[0m \u001b[0;34m\u001b[0m\u001b[0m\n\u001b[1;32m     87\u001b[0m \u001b[0;34m\u001b[0m\u001b[0m\n",
            "\u001b[0;31mValueError\u001b[0m: could not convert string to float: 'LUKE G U'"
          ]
        }
      ]
    },
    {
      "cell_type": "code",
      "metadata": {
        "id": "udPTmvo0s0x1",
        "colab_type": "code",
        "outputId": "2ad24169-a0d5-4c46-f213-5a82d63d87fc",
        "colab": {
          "base_uri": "https://localhost:8080/",
          "height": 72
        }
      },
      "source": [
        "y_df\n",
        "\n"
      ],
      "execution_count": 0,
      "outputs": [
        {
          "output_type": "stream",
          "text": [
            "/usr/local/lib/python3.6/dist-packages/sklearn/utils/deprecation.py:66: DeprecationWarning: Class Imputer is deprecated; Imputer was deprecated in version 0.20 and will be removed in 0.22. Import impute.SimpleImputer from sklearn instead.\n",
            "  warnings.warn(msg, category=DeprecationWarning)\n"
          ],
          "name": "stderr"
        }
      ]
    },
    {
      "cell_type": "code",
      "metadata": {
        "id": "wRKJICmps5If",
        "colab_type": "code",
        "outputId": "bafb2c6e-4dcf-4e3a-bb7f-10ee284e0235",
        "colab": {
          "base_uri": "https://localhost:8080/",
          "height": 90
        }
      },
      "source": [
        ""
      ],
      "execution_count": 0,
      "outputs": [
        {
          "output_type": "stream",
          "text": [
            "/usr/local/lib/python3.6/dist-packages/sklearn/model_selection/_split.py:1978: FutureWarning: The default value of cv will change from 3 to 5 in version 0.22. Specify it explicitly to silence this warning.\n",
            "  warnings.warn(CV_WARNING, FutureWarning)\n"
          ],
          "name": "stderr"
        },
        {
          "output_type": "execute_result",
          "data": {
            "text/plain": [
              "array([0.77128427, 0.76066522, 0.75434783])"
            ]
          },
          "metadata": {
            "tags": []
          },
          "execution_count": 39
        }
      ]
    },
    {
      "cell_type": "code",
      "metadata": {
        "id": "7KVA02skv9N4",
        "colab_type": "code",
        "outputId": "008eb661-4709-4a80-90df-83d30309e793",
        "colab": {
          "base_uri": "https://localhost:8080/",
          "height": 125
        }
      },
      "source": [
        "from sklearn.model_selection import cross_val_score\n",
        "from sklearn.ensemble import GradientBoostingClassifier\n",
        "\n",
        "X_df = df_by_well[feature_names]\n",
        "y_df = df_by_well['Facies']\n",
        "\n",
        "imp = preprocessing.Imputer(missing_values='NaN', strategy='mean', axis=0)\n",
        "imp = imp.fit(X_df)\n",
        "X_df = imp.transform(X_df)\n",
        "\n",
        "est = GradientBoostingClassifier(learning_rate=0.12,\n",
        "                                 max_depth=3,\n",
        "                                 n_estimators=150,\n",
        "                                 )\n",
        "\n",
        "cross_val_score(est, X_df, y_df)"
      ],
      "execution_count": 0,
      "outputs": [
        {
          "output_type": "stream",
          "text": [
            "/usr/local/lib/python3.6/dist-packages/sklearn/utils/deprecation.py:66: DeprecationWarning: Class Imputer is deprecated; Imputer was deprecated in version 0.20 and will be removed in 0.22. Import impute.SimpleImputer from sklearn instead.\n",
            "  warnings.warn(msg, category=DeprecationWarning)\n",
            "/usr/local/lib/python3.6/dist-packages/sklearn/model_selection/_split.py:1978: FutureWarning: The default value of cv will change from 3 to 5 in version 0.22. Specify it explicitly to silence this warning.\n",
            "  warnings.warn(CV_WARNING, FutureWarning)\n"
          ],
          "name": "stderr"
        },
        {
          "output_type": "execute_result",
          "data": {
            "text/plain": [
              "array([0.67676768, 0.65509761, 0.67681159])"
            ]
          },
          "metadata": {
            "tags": []
          },
          "execution_count": 42
        }
      ]
    },
    {
      "cell_type": "code",
      "metadata": {
        "id": "M7uwQYmDwZ_o",
        "colab_type": "code",
        "outputId": "97469bc1-22bf-45ac-bcae-1ea44002cba1",
        "colab": {
          "base_uri": "https://localhost:8080/",
          "height": 125
        }
      },
      "source": [
        "X_df = df_by_well[feature_names + ['unitwidth']]\n",
        "\n",
        "imp = preprocessing.Imputer(missing_values='NaN', strategy='mean', axis=0)\n",
        "imp = imp.fit(X_df)\n",
        "X_df = imp.transform(X_df)\n",
        "\n",
        "est = GradientBoostingClassifier(learning_rate=0.12,\n",
        "                                 max_depth=3,\n",
        "                                 n_estimators=150,\n",
        "                                 )\n",
        "\n",
        "cross_val_score(est, X_df, y_df)"
      ],
      "execution_count": 0,
      "outputs": [
        {
          "output_type": "stream",
          "text": [
            "/usr/local/lib/python3.6/dist-packages/sklearn/utils/deprecation.py:66: DeprecationWarning: Class Imputer is deprecated; Imputer was deprecated in version 0.20 and will be removed in 0.22. Import impute.SimpleImputer from sklearn instead.\n",
            "  warnings.warn(msg, category=DeprecationWarning)\n",
            "/usr/local/lib/python3.6/dist-packages/sklearn/model_selection/_split.py:1978: FutureWarning: The default value of cv will change from 3 to 5 in version 0.22. Specify it explicitly to silence this warning.\n",
            "  warnings.warn(CV_WARNING, FutureWarning)\n"
          ],
          "name": "stderr"
        },
        {
          "output_type": "execute_result",
          "data": {
            "text/plain": [
              "array([0.76190476, 0.75777296, 0.75507246])"
            ]
          },
          "metadata": {
            "tags": []
          },
          "execution_count": 43
        }
      ]
    },
    {
      "cell_type": "code",
      "metadata": {
        "id": "VJhoLT77wu00",
        "colab_type": "code",
        "outputId": "d51f8d4d-07fd-4ca7-9398-c5d5cea65673",
        "colab": {
          "base_uri": "https://localhost:8080/",
          "height": 34
        }
      },
      "source": [
        "est.fit(X_df, y_df)\n",
        "est.feature_importances_\n",
        "print(feature_names + ['unitwidth'])"
      ],
      "execution_count": 0,
      "outputs": [
        {
          "output_type": "stream",
          "text": [
            "['GR', 'ILD_log10', 'DeltaPHI', 'PHIND', 'PE', 'NM_M', 'RELPOS', 'unitwidth']\n"
          ],
          "name": "stdout"
        }
      ]
    },
    {
      "cell_type": "code",
      "metadata": {
        "id": "z-5zuWkmxxOq",
        "colab_type": "code",
        "outputId": "54b45e44-0953-4805-fcda-8ea48341c9df",
        "colab": {
          "base_uri": "https://localhost:8080/",
          "height": 52
        }
      },
      "source": [
        "est.feature_importances_"
      ],
      "execution_count": 0,
      "outputs": [
        {
          "output_type": "execute_result",
          "data": {
            "text/plain": [
              "array([0.13022484, 0.07364744, 0.06087846, 0.13217216, 0.06600327,\n",
              "       0.23774058, 0.06487357, 0.23445969])"
            ]
          },
          "metadata": {
            "tags": []
          },
          "execution_count": 48
        }
      ]
    },
    {
      "cell_type": "code",
      "metadata": {
        "id": "lmnquM6bySgK",
        "colab_type": "code",
        "outputId": "0f2e734f-03b9-4a18-a602-8abf7d132195",
        "colab": {
          "base_uri": "https://localhost:8080/",
          "height": 157
        }
      },
      "source": [
        "{feat:imp for feat, imp in zip(feature_names + ['unitwidth'], est.feature_importances_)}"
      ],
      "execution_count": 0,
      "outputs": [
        {
          "output_type": "execute_result",
          "data": {
            "text/plain": [
              "{'DeltaPHI': 0.06087845871660647,\n",
              " 'GR': 0.13022483726228876,\n",
              " 'ILD_log10': 0.07364743726360228,\n",
              " 'NM_M': 0.2377405777000428,\n",
              " 'PE': 0.06600327162168934,\n",
              " 'PHIND': 0.13217216296030335,\n",
              " 'RELPOS': 0.06487356800777831,\n",
              " 'unitwidth': 0.2344596864676886}"
            ]
          },
          "metadata": {
            "tags": []
          },
          "execution_count": 49
        }
      ]
    },
    {
      "cell_type": "code",
      "metadata": {
        "id": "fILuGEeMyBq2",
        "colab_type": "code",
        "outputId": "f19a6b62-5bc7-4a06-e0a9-d3d4a3dc2c9d",
        "colab": {
          "base_uri": "https://localhost:8080/",
          "height": 393
        }
      },
      "source": [
        "plt.figure(figsize=(8,6))\n",
        "plt.bar(feature_names + ['unitwidth'], est.feature_importances_)"
      ],
      "execution_count": 0,
      "outputs": [
        {
          "output_type": "execute_result",
          "data": {
            "text/plain": [
              "<BarContainer object of 8 artists>"
            ]
          },
          "metadata": {
            "tags": []
          },
          "execution_count": 56
        },
        {
          "output_type": "display_data",
          "data": {
            "image/png": "[encoded data removed]",
            "text/plain": [
              "<Figure size 576x432 with 1 Axes>"
            ]
          },
          "metadata": {
            "tags": []
          }
        }
      ]
    },
    {
      "cell_type": "code",
      "metadata": {
        "id": "MCbf6S4rMG98",
        "colab_type": "code",
        "colab": {}
      },
      "source": [
        "import pandas as pd\n",
        "\n",
        "test_data = pd.read_csv('https://raw.githubusercontent.com/seg/2016-ml-contest/master/validation_data_nofacies.csv')\n",
        "\n"
      ],
      "execution_count": 0,
      "outputs": []
    },
    {
      "cell_type": "code",
      "metadata": {
        "id": "X-48egq4MZVD",
        "colab_type": "code",
        "outputId": "6f4d4852-c070-46dc-f9c8-0c53ce3ce90c",
        "colab": {
          "base_uri": "https://localhost:8080/",
          "height": 34
        }
      },
      "source": [
        "test_data['Well Name'].unique()"
      ],
      "execution_count": 0,
      "outputs": [
        {
          "output_type": "execute_result",
          "data": {
            "text/plain": [
              "array(['STUART', 'CRAWFORD'], dtype=object)"
            ]
          },
          "metadata": {
            "tags": []
          },
          "execution_count": 4
        }
      ]
    },
    {
      "cell_type": "code",
      "metadata": {
        "colab_type": "code",
        "outputId": "afd24cdd-556a-454f-9a7d-90eb4e655f2a",
        "id": "Z6YdM4LeMOLJ",
        "colab": {
          "base_uri": "https://localhost:8080/",
          "height": 52
        }
      },
      "source": [
        "#Load testing data\n",
        "\n",
        "    # Train classifier\n",
        "    #clf = make_pipeline(make_union(VotingClassifier([(\"est\", ExtraTreesClassifier(criterion=\"gini\", max_features=1.0, n_estimators=500))]), FunctionTransformer(lambda X: X)), XGBClassifier(learning_rate=0.73, max_depth=10, min_child_weight=10, n_estimators=500, subsample=0.27))\n",
        "    #clf =  make_pipeline( KNeighborsClassifier(n_neighbors=5, weights=\"distance\") ) \n",
        "    #clf = make_pipeline(MaxAbsScaler(),make_union(VotingClassifier([(\"est\", RandomForestClassifier(n_estimators=500))]), FunctionTransformer(lambda X: X)),ExtraTreesClassifier(criterion=\"entropy\", max_features=0.0001, n_estimators=500))\n",
        "    # * clf = make_pipeline( make_union(VotingClassifier([(\"est\", BernoulliNB(alpha=60.0, binarize=0.26, fit_prior=True))]), FunctionTransformer(lambda X: X)),RandomForestClassifier(n_estimators=500))\n",
        "\n",
        "# # Prepare training data\n",
        "# X_tr = X\n",
        "# y_tr = y\n",
        "\n",
        "# # Augment features\n",
        "# X_tr, padded_rows = augment_features(X_tr, well, depth)\n",
        "\n",
        "# # Removed padded rows\n",
        "# X_tr = np.delete(X_tr, padded_rows, axis=0)\n",
        "# y_tr = np.delete(y_tr, padded_rows, axis=0) \n",
        "\n",
        "# Prepare test data\n",
        "\n",
        "#test_data['logF/logphi'] = test_data['ILD_log10'] / np.log10(test_data['PHIND'])\n",
        "\n",
        "well_ts = test_data['Well Name'].values\n",
        "depth_ts = test_data['Depth'].values\n",
        "X_ts = test_data[feature_names].values\n",
        "\n",
        "\n",
        "    \n",
        "y_pred = []\n",
        "print('.' * 20)\n",
        "for seed in range(20):\n",
        "    np.random.seed(seed)\n",
        "\n",
        "    # Make training data.\n",
        "    X_train, padded_rows = augment_features(X, well, depth)\n",
        "    y_train = y\n",
        "    X_train = np.delete(X_train, padded_rows, axis=0)\n",
        "    y_train = np.delete(y_train, padded_rows, axis=0) \n",
        "\n",
        "    # Train classifier  \n",
        "    clf = make_pipeline(XGBClassifier(learning_rate=0.12,\n",
        "                                      max_depth=5,\n",
        "                                      min_child_weight=10,\n",
        "                                      n_estimators=175,\n",
        "                                      seed=seed,\n",
        "                                      colsample_bytree=0.9))\n",
        "\n",
        "    # Make blind data.\n",
        "    X_test, _ = augment_features(X_ts, well_ts, depth_ts)\n",
        "\n",
        "    # Train and test.\n",
        "    y_ts_hat = train_and_test(X_train, y_train, X_test, well_ts, clf)\n",
        "    \n",
        "    # Collect result.\n",
        "    y_pred.append(y_ts_hat)\n",
        "    print('|', end='')\n",
        "    \n",
        "np.save('LA_Team_100_realizations.npy', y_pred)"
      ],
      "execution_count": 0,
      "outputs": [
        {
          "output_type": "stream",
          "text": [
            "....................\n",
            "||||||||||||||||||||"
          ],
          "name": "stdout"
        }
      ]
    },
    {
      "cell_type": "code",
      "metadata": {
        "id": "XsUeKqDIL7fK",
        "colab_type": "code",
        "colab": {}
      },
      "source": [
        "from sklearn.metrics import confusion_matrix\n",
        "\n",
        "PRED = pd.read_csv('https://raw.githubusercontent.com/seg/2016-ml-contest/master/prediction_depths.csv')\n",
        "PRED.set_index([\"Well Name\", \"Depth\"], inplace=True)\n",
        "PRED.head()\n",
        "\n",
        "TRUE = pd.read_csv('https://raw.githubusercontent.com/seg/2016-ml-contest/master/blind_stuart_crawford_core_facies.csv')\n",
        "TRUE.rename(columns={'Depth.ft': 'Depth'}, inplace=True)\n",
        "TRUE.rename(columns={'WellName': 'Well Name'}, inplace=True)\n",
        "TRUE.set_index([\"Well Name\", \"Depth\"], inplace=True)\n",
        "TRUE.head()\n",
        "\n",
        "\n",
        "def get_accuracies(y_preds):\n",
        "    \"\"\"\n",
        "    Get the F1 scores from all the y_preds.\n",
        "    y_blind is a 1D array. y_preds is a 2D array.\n",
        "    \"\"\"\n",
        "    accs = []\n",
        "    for y_pred in y_preds:\n",
        "        PRED['Facies'] = y_pred\n",
        "        all_data = PRED.join(TRUE, how='inner')\n",
        "        y_blind = all_data['LithCode'].values\n",
        "        y_pred = all_data['Facies'].values\n",
        "        y_pred = y_pred[y_blind!=11]\n",
        "        y_blind = y_blind[y_blind!=11]\n",
        "        cv_conf = confusion_matrix(y_blind, y_pred)\n",
        "        #sns.heatmap(cv_conf, annot=True, fmt=\"d\")\n",
        "        accs.append(accuracy(cv_conf))\n",
        "    return np.array(accs)"
      ],
      "execution_count": 0,
      "outputs": []
    }
  ]
}